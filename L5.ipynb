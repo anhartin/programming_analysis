{
 "cells": [
  {
   "cell_type": "markdown",
   "metadata": {},
   "source": [
    "# Добро пожаловать в самостоятельный проект\n",
    "\n",
    "Самостоятельный проект — это практическая проверка знаний, приобретённых вами на вводном курсе. Каждый раздел посвящён отдельной стадии анализа данных с экскурсом в основы Python. \n",
    "\n",
    "Проект выполняется в пять этапов:\n",
    "\n",
    "•\tПостановка задачи\n",
    "\n",
    "•\tПолучение данных\n",
    "\n",
    "•\tПредобработка данных\n",
    "\n",
    "•\tАнализ данных\n",
    "\n",
    "•\tОформление результатов\n",
    "\n",
    "Для каждой части описаны шаги выполнения c теоретическим приложением. В Jupyter Notebook эти шаги связаны между собой выводами и результатами.\n",
    "\n",
    "**Исследование: Музыка больших городов**\n",
    "\n",
    "Яндекс.Музыка — это крупный продукт с огромным запасом данных для исследований. Команды таких сервисов для поддержания интереса к продукту и привлечения новых пользователей часто проводят исследования про пользователей. Чтобы удержать клиентов и привлечь новых, сделать бренд более узнаваемым, команда сервиса проводит исследования аудитории, и публикует интересные результаты. Например, интересно сравнить тексты, сочинённые нейросетью, с произведениями настоящих рэперов.\n",
    "Есть исследование, которое напоминает наше: о музыкальных предпочтениях в разных городах России.\n",
    "Итак, вопрос вам: как музыка, которая звучит по дороге на работу в понедельник утром, отличается от той, что играет в среду или в конце рабочей недели? Возьмите данные для Москвы и Петербурга. Сравните, что и в каком режиме слушают их жители.\n",
    "\n",
    "План исследования\n",
    "\n",
    "1.\tПолучение данных. Прочитайте данные, ознакомьтесь с ними.\n",
    "\n",
    "2.\tПредобработка данных. Избавьтесь от дубликатов, проблем с названиями столбцов и пропусками.\n",
    "\n",
    "3.\tАнализ данных. Ответьте на основные вопросы исследования, подготовьте отчётную таблицу или опишите полученный результат.\n",
    "\n",
    "4.\tПодведение итогов. Просмотрите выполненную работу и сформулируйте выводы.\n"
   ]
  },
  {
   "cell_type": "markdown",
   "metadata": {},
   "source": [
    "# Этап 1. Получение данных\n",
    "\n",
    "Изучим данные, предоставленные сервисом для проекта.\n",
    "\n",
    "Прочитайте файл music_project.csv и сохраните его в переменной df.\n",
    "\n",
    "Получите  первых 10 строк таблицы, а также общую информацию о данных таблицы df."
   ]
  },
  {
   "cell_type": "code",
   "execution_count": 1,
   "metadata": {},
   "outputs": [
    {
     "name": "stdout",
     "output_type": "stream",
     "text": [
      "     userID                        Track            artist   genre  \\\n",
      "0  FFB692EC            Kamigata To Boots  The Mass Missile    rock   \n",
      "1  55204538  Delayed Because of Accident  Andreas Rönnberg    rock   \n",
      "2    20EC38            Funiculì funiculà       Mario Lanza     pop   \n",
      "3  A3DD03C9        Dragons in the Sunset        Fire + Ice    folk   \n",
      "4  E2DC1FAE                  Soul People        Space Echo   dance   \n",
      "5  842029A1                    Преданная         IMPERVTOR  rusrap   \n",
      "6  4CB90AA5                         True      Roman Messer   dance   \n",
      "7  F03E1C1F             Feeling This Way   Polina Griffith   dance   \n",
      "8  8FA1D3BE     И вновь продолжается бой               NaN  ruspop   \n",
      "9  E772D5C0                    Pessimist               NaN   dance   \n",
      "\n",
      "             City        time        Day  \n",
      "0  Saint-Petersburg  20:28:33  Wednesday  \n",
      "1            Moscow  14:07:09     Friday  \n",
      "2  Saint-Petersburg  20:58:07  Wednesday  \n",
      "3  Saint-Petersburg  08:37:09     Monday  \n",
      "4            Moscow  08:34:34     Monday  \n",
      "5  Saint-Petersburg  13:09:41     Friday  \n",
      "6            Moscow  13:00:07  Wednesday  \n",
      "7            Moscow  20:47:49  Wednesday  \n",
      "8            Moscow  09:17:40     Friday  \n",
      "9  Saint-Petersburg  21:20:49  Wednesday  \n",
      "<class 'pandas.core.frame.DataFrame'>\n",
      "RangeIndex: 65079 entries, 0 to 65078\n",
      "Data columns (total 7 columns):\n",
      " #   Column    Non-Null Count  Dtype \n",
      "---  ------    --------------  ----- \n",
      " 0     userID  65079 non-null  object\n",
      " 1   Track     63848 non-null  object\n",
      " 2   artist    57876 non-null  object\n",
      " 3   genre     63881 non-null  object\n",
      " 4     City    65079 non-null  object\n",
      " 5   time      65079 non-null  object\n",
      " 6   Day       65079 non-null  object\n",
      "dtypes: object(7)\n",
      "memory usage: 3.5+ MB\n",
      "None\n",
      "          userID  Track  artist  genre   City        time     Day\n",
      "count      65079  63848   57876  63881    65079     65079   65079\n",
      "unique     41748  47245   43605    289        2     20392       3\n",
      "top     A8AE9169  Intro  Plan B    pop   Moscow  08:14:07  Friday\n",
      "freq          76     34       6   8850    45360        14   23149\n"
     ]
    }
   ],
   "source": [
    "import pandas as pd\n",
    "\n",
    "df = pd.read_csv('yandex_music.csv')\n",
    "print(df.head(10))\n",
    "print(df.info())\n",
    "print(df.describe())\n"
   ]
  },
  {
   "cell_type": "markdown",
   "metadata": {},
   "source": [
    "Рассмотрим полученную информацию подробнее.\n",
    "Всего в таблице 7 столбцов, тип данных у каждого столбца - строка.\n",
    "Подробно разберём, какие в df столбцы и какую информацию они содержат:\n",
    "•\tuserID — идентификатор пользователя;\n",
    "•\tTrack — название трека;\n",
    "•\tartist — имя исполнителя;\n",
    "•\tgenre — название жанра;\n",
    "•\tCity — город, в котором происходило прослушивание;\n",
    "•\ttime — время, в которое пользователь слушал трек;\n",
    "•\tDay — день недели.\n",
    "Количество значений в столбцах различается. Это говорит о том, что в данных есть пропущенные значения.\n"
   ]
  },
  {
   "cell_type": "markdown",
   "metadata": {},
   "source": [
    "## Выводы: \n",
    "\n",
    "Каждая строка таблицы содержит информацию о композициях определённого жанра в определённом исполнении, которые пользователи слушали в одном из городов в определённое время и день недели. Две проблемы, которые нужно решать: пропуски и некачественные названия столбцов. Для проверки рабочих гипотез особенно ценны столбцы (*вставьте сюда названия столбцов, наиболее существенных, на ва взгляд*. Данные из столбца *название столбца*  позволят узнать самые популярные жанры."
   ]
  },
  {
   "cell_type": "markdown",
   "metadata": {},
   "source": [
    "# Этап 2. Предобработка данных\n",
    "\n",
    "Исключим пропуски, переименуем столбцы, а также проверим данные на наличие дубликатов.\n",
    "\n",
    "Получаем перечень названий столбцов. Какая наблюдается проблема — кроме тех, что уже были названы ранее?\n"
   ]
  },
  {
   "cell_type": "code",
   "execution_count": 2,
   "metadata": {},
   "outputs": [
    {
     "name": "stdout",
     "output_type": "stream",
     "text": [
      "Index(['  userID', 'Track', 'artist', 'genre', '  City  ', 'time', 'Day'], dtype='object')\n"
     ]
    }
   ],
   "source": [
    "print(df.columns)"
   ]
  },
  {
   "cell_type": "markdown",
   "metadata": {},
   "source": [
    "В названиях столбцов есть пробелы, которые могут затруднять доступ к данным.\n",
    "\n",
    "Переименуем столбцы для удобства дальнейшей работы. Проверим результат.\n"
   ]
  },
  {
   "cell_type": "code",
   "execution_count": 5,
   "metadata": {},
   "outputs": [
    {
     "name": "stdout",
     "output_type": "stream",
     "text": [
      "Index(['user_id', 'track_name', 'artist_name', 'genre_name', 'city',\n",
      "       'total_play_seconds', 'day'],\n",
      "      dtype='object')\n"
     ]
    }
   ],
   "source": [
    "new_names = ['user_id', 'track_name', 'artist_name', 'genre_name', 'city', 'total_play_seconds', 'day']\n",
    "df = df.set_axis(new_names, axis='columns')\n",
    "df.dropna(subset=['genre_name'], inplace=True)\n",
    "print(df.columns)"
   ]
  },
  {
   "cell_type": "markdown",
   "metadata": {},
   "source": [
    "Проверим данные на наличие пропусков вызовом набора методов для суммирования пропущенных значений."
   ]
  },
  {
   "cell_type": "code",
   "execution_count": 6,
   "metadata": {},
   "outputs": [
    {
     "name": "stdout",
     "output_type": "stream",
     "text": [
      "user_id                  0\n",
      "track_name             570\n",
      "artist_name           6372\n",
      "genre_name               0\n",
      "city                     0\n",
      "total_play_seconds       0\n",
      "day                      0\n",
      "dtype: int64\n"
     ]
    }
   ],
   "source": [
    "print(df.isnull().sum())"
   ]
  },
  {
   "cell_type": "markdown",
   "metadata": {},
   "source": [
    "Пустые значения свидетельствуют, что для некоторых треков доступна не вся информация. Причины могут быть разные: скажем, не назван конкретный исполнитель народной песни. Хуже, если проблемы с записью данных. Каждый отдельный случай необходимо разобрать и выявить причину.\n",
    "\n",
    "Заменяем пропущенные значения в столбцах с названием трека и исполнителя на строку 'unknown'. После этой операции нужно убедиться, что таблица больше не содержит пропусков.\n"
   ]
  },
  {
   "cell_type": "code",
   "execution_count": 9,
   "metadata": {},
   "outputs": [],
   "source": [
    "df['track_name'] = df['track_name'].fillna('unknown')\n",
    "df['artist_name'] = df['artist_name'].fillna('unknown')"
   ]
  },
  {
   "cell_type": "code",
   "execution_count": 10,
   "metadata": {},
   "outputs": [
    {
     "name": "stdout",
     "output_type": "stream",
     "text": [
      "user_id               0\n",
      "track_name            0\n",
      "artist_name           0\n",
      "genre_name            0\n",
      "city                  0\n",
      "total_play_seconds    0\n",
      "day                   0\n",
      "Track                 0\n",
      "artist                0\n",
      "dtype: int64\n"
     ]
    }
   ],
   "source": [
    "print(df.isnull().sum())"
   ]
  },
  {
   "cell_type": "markdown",
   "metadata": {},
   "source": [
    "Удаляем в столбце с жанрами пустые значения; убеждаемся, что их больше не осталось."
   ]
  },
  {
   "cell_type": "code",
   "execution_count": 12,
   "metadata": {},
   "outputs": [
    {
     "name": "stdout",
     "output_type": "stream",
     "text": [
      "0\n"
     ]
    }
   ],
   "source": [
    "df.dropna(subset=['genre_name'], inplace=True)\n",
    "\n",
    "print(df['genre_name'].isnull().sum())"
   ]
  },
  {
   "cell_type": "markdown",
   "metadata": {},
   "source": [
    "Необходимо установить наличие дубликатов. Если найдутся, удаляем, и проверяем, все ли удалились."
   ]
  },
  {
   "cell_type": "code",
   "execution_count": 13,
   "metadata": {},
   "outputs": [
    {
     "name": "stdout",
     "output_type": "stream",
     "text": [
      "3755\n",
      "0\n"
     ]
    }
   ],
   "source": [
    "print(df.duplicated().sum())\n",
    "\n",
    "df.drop_duplicates(inplace=True)\n",
    "\n",
    "print(df.duplicated().sum())"
   ]
  },
  {
   "cell_type": "markdown",
   "metadata": {},
   "source": [
    "Дубликаты могли появиться вследствие сбоя в записи данных. Стоит обратить внимание и разобраться с причинами появления такого «информационного мусора».\n",
    "\n",
    "Сохраняем список уникальных значений столбца с жанрами в переменной genres_list.\n",
    "\n",
    "Объявим функцию find_genre() для поиска неявных дубликатов в столбце с жанрами. Например, когда название одного и того же жанра написано разными словами.\n"
   ]
  },
  {
   "cell_type": "code",
   "execution_count": 15,
   "metadata": {},
   "outputs": [],
   "source": [
    "genres_list = df['genre_name'].unique().tolist()\n"
   ]
  },
  {
   "cell_type": "code",
   "execution_count": 16,
   "metadata": {},
   "outputs": [],
   "source": [
    "def find_genre(genre_name):\n",
    "    count = 0\n",
    "    for genre in genres_list:\n",
    "        if genre.lower() == genre_name.lower():\n",
    "            count += 1\n",
    "    return count\n"
   ]
  },
  {
   "cell_type": "markdown",
   "metadata": {},
   "source": [
    "Вызов функции find_genre() для поиска различных вариантов названия жанра хип-хоп в таблице.\n",
    "\n",
    "Правильное название — hiphop. Поищем другие варианты:\n",
    "\n",
    "•\thip\n",
    "\n",
    "•\thop\n",
    "\n",
    "•\thip-hop\n"
   ]
  },
  {
   "cell_type": "code",
   "execution_count": 17,
   "metadata": {},
   "outputs": [
    {
     "name": "stdout",
     "output_type": "stream",
     "text": [
      "1\n"
     ]
    }
   ],
   "source": [
    "print(find_genre('hip'))"
   ]
  },
  {
   "cell_type": "code",
   "execution_count": 18,
   "metadata": {},
   "outputs": [
    {
     "name": "stdout",
     "output_type": "stream",
     "text": [
      "1\n"
     ]
    }
   ],
   "source": [
    "print(find_genre('hop'))"
   ]
  },
  {
   "cell_type": "code",
   "execution_count": 19,
   "metadata": {},
   "outputs": [
    {
     "name": "stdout",
     "output_type": "stream",
     "text": [
      "1\n"
     ]
    }
   ],
   "source": [
    "print(find_genre('hip-hop'))"
   ]
  },
  {
   "cell_type": "markdown",
   "metadata": {},
   "source": [
    "Объявим функцию find_hip_hop(), которая заменяет неправильное название этого жанра в столбце 'genre_name' на 'hiphop' и проверяет успешность выполнения замены.\n",
    "\n",
    "Так исправляем все варианты написания, которые выявила проверка.\n"
   ]
  },
  {
   "cell_type": "code",
   "execution_count": 20,
   "metadata": {},
   "outputs": [],
   "source": [
    "def find_hip_hop(df, wrong_name):\n",
    "    df['genre'] = df['genre'].replace(wrong_name, 'hiphop')\n",
    "    return df['genre'].value_counts()[wrong_name]"
   ]
  },
  {
   "cell_type": "code",
   "execution_count": 26,
   "metadata": {},
   "outputs": [],
   "source": [
    "# <замена одного неверного варианта на hiphop вызовом функции find_hip_hop()>"
   ]
  },
  {
   "cell_type": "markdown",
   "metadata": {},
   "source": [
    "Получаем общую информацию о данных. Убеждаемся, что чистка выполнена успешно."
   ]
  },
  {
   "cell_type": "code",
   "execution_count": 21,
   "metadata": {},
   "outputs": [
    {
     "name": "stdout",
     "output_type": "stream",
     "text": [
      "    user_id                   track_name       artist_name genre_name  \\\n",
      "0  FFB692EC            Kamigata To Boots  The Mass Missile       rock   \n",
      "1  55204538  Delayed Because of Accident  Andreas Rönnberg       rock   \n",
      "2    20EC38            Funiculì funiculà       Mario Lanza        pop   \n",
      "3  A3DD03C9        Dragons in the Sunset        Fire + Ice       folk   \n",
      "4  E2DC1FAE                  Soul People        Space Echo      dance   \n",
      "\n",
      "               city total_play_seconds        day  \\\n",
      "0  Saint-Petersburg           20:28:33  Wednesday   \n",
      "1            Moscow           14:07:09     Friday   \n",
      "2  Saint-Petersburg           20:58:07  Wednesday   \n",
      "3  Saint-Petersburg           08:37:09     Monday   \n",
      "4            Moscow           08:34:34     Monday   \n",
      "\n",
      "                         Track            artist  \n",
      "0            Kamigata To Boots  The Mass Missile  \n",
      "1  Delayed Because of Accident  Andreas Rönnberg  \n",
      "2            Funiculì funiculà       Mario Lanza  \n",
      "3        Dragons in the Sunset        Fire + Ice  \n",
      "4                  Soul People        Space Echo  \n",
      "<class 'pandas.core.frame.DataFrame'>\n",
      "Index: 60126 entries, 0 to 65078\n",
      "Data columns (total 9 columns):\n",
      " #   Column              Non-Null Count  Dtype \n",
      "---  ------              --------------  ----- \n",
      " 0   user_id             60126 non-null  object\n",
      " 1   track_name          60126 non-null  object\n",
      " 2   artist_name         60126 non-null  object\n",
      " 3   genre_name          60126 non-null  object\n",
      " 4   city                60126 non-null  object\n",
      " 5   total_play_seconds  60126 non-null  object\n",
      " 6   day                 60126 non-null  object\n",
      " 7   Track               60126 non-null  object\n",
      " 8   artist              60126 non-null  object\n",
      "dtypes: object(9)\n",
      "memory usage: 4.6+ MB\n",
      "None\n",
      "         user_id track_name artist_name genre_name    city total_play_seconds  \\\n",
      "count      60126      60126       60126      60126   60126              60126   \n",
      "unique     41315      46910       43344        289       2              20316   \n",
      "top     7D166C63    unknown     unknown        pop  Moscow           08:14:07   \n",
      "freq          51        536        5990       8323   41892                 13   \n",
      "\n",
      "           day    Track   artist  \n",
      "count    60126    60126    60126  \n",
      "unique       3    46910    43344  \n",
      "top     Friday  unknown  unknown  \n",
      "freq     21482      536     5990  \n"
     ]
    }
   ],
   "source": [
    "print(df.head()) \n",
    "print(df.info())  \n",
    "print(df.describe()) \n"
   ]
  },
  {
   "cell_type": "markdown",
   "metadata": {},
   "source": [
    "## Вывод\n",
    "\n",
    "На этапе предобработки в данных обнаружились не только пропуски и проблемы с названиями столбцов, но и всяческие виды дубликатов. Их удаление позволит провести анализ точнее. Поскольку сведения о жанрах важно сохранить для анализа, не просто удаляем все пропущенные значения, но заполним пропущенные имена исполнителей и названия треков. Имена столбцов теперь корректны и удобны для дальнейшей работы.\n"
   ]
  },
  {
   "cell_type": "markdown",
   "metadata": {},
   "source": [
    "# Действительно ли музыку в разных городах слушают по-разному?\n",
    "\n",
    "Была выдвинута гипотеза, что в Москве и Санкт-Петербурге пользователи слушают музыку по-разному. Проверяем это предположение по данным о трёх днях недели — понедельнике, среде и пятнице.\n",
    "\n",
    "Для каждого города устанавливаем количество прослушанных в эти дни композиций с известным жанром, и сравниваем результаты.\n",
    "Группируем данные по городу и вызовом метода count() подсчитываем композиции, для которых известен жанр.\n"
   ]
  },
  {
   "cell_type": "code",
   "execution_count": 23,
   "metadata": {},
   "outputs": [
    {
     "name": "stdout",
     "output_type": "stream",
     "text": [
      "city\n",
      "Moscow              41892\n",
      "Saint-Petersburg    18234\n",
      "Name: genre_name, dtype: int64\n"
     ]
    }
   ],
   "source": [
    "city_genre_count = df.groupby('city')['genre_name'].count()\n",
    "print(city_genre_count)"
   ]
  },
  {
   "cell_type": "markdown",
   "metadata": {},
   "source": [
    "В *(вставьте название города)* прослушиваний больше, чем в *(вставьте название города)*, но это не значит, что *(вставьте название города)* более активна. У Яндекс.Музыки в целом больше пользователей в Москве, поэтому величины сопоставимы.\n",
    "Сгруппируем данные по дню недели и подсчитаем прослушанные в понедельник, среду и пятницу композиции, для которых известен жанр.\n"
   ]
  },
  {
   "cell_type": "code",
   "execution_count": 24,
   "metadata": {},
   "outputs": [
    {
     "name": "stdout",
     "output_type": "stream",
     "text": [
      "day\n",
      "Friday       21482\n",
      "Monday       20866\n",
      "Wednesday    17778\n",
      "Name: genre_name, dtype: int64\n"
     ]
    }
   ],
   "source": [
    "df_grouped = df.groupby('day')['genre_name'].count()\n",
    "print(df_grouped)"
   ]
  },
  {
   "cell_type": "markdown",
   "metadata": {},
   "source": [
    "Понедельник и пятница — время для музыки; по средам пользователи немного больше вовлечены в работу.\n",
    "\n",
    "Создаём функцию number_tracks(), которая принимает как параметры таблицу, день недели и название города, а возвращает количество прослушанных композиций, для которых известен жанр. Проверяем количество прослушанных композиций для каждого города и понедельника, затем среды и пятницы.\n"
   ]
  },
  {
   "cell_type": "code",
   "execution_count": 28,
   "metadata": {},
   "outputs": [],
   "source": [
    "def number_tracks(df, day, city):\n",
    "    track_list = df[(df['day'] == day) & (df['city'] == city)]\n",
    "    track_list_count = track_list['genre_name'].count()\n",
    "    return track_list_count"
   ]
  },
  {
   "cell_type": "code",
   "execution_count": 29,
   "metadata": {},
   "outputs": [
    {
     "name": "stdout",
     "output_type": "stream",
     "text": [
      "15347\n"
     ]
    }
   ],
   "source": [
    "print(number_tracks(df, 'Monday', 'Moscow'))"
   ]
  },
  {
   "cell_type": "code",
   "execution_count": 30,
   "metadata": {},
   "outputs": [
    {
     "name": "stdout",
     "output_type": "stream",
     "text": [
      "5519\n"
     ]
    }
   ],
   "source": [
    "print(number_tracks(df, 'Monday', 'Saint-Petersburg'))"
   ]
  },
  {
   "cell_type": "code",
   "execution_count": 31,
   "metadata": {},
   "outputs": [
    {
     "name": "stdout",
     "output_type": "stream",
     "text": [
      "10865\n"
     ]
    }
   ],
   "source": [
    "print(number_tracks(df, 'Wednesday', 'Moscow'))"
   ]
  },
  {
   "cell_type": "code",
   "execution_count": 32,
   "metadata": {},
   "outputs": [
    {
     "name": "stdout",
     "output_type": "stream",
     "text": [
      "6913\n"
     ]
    }
   ],
   "source": [
    "print(number_tracks(df, 'Wednesday', 'Saint-Petersburg'))"
   ]
  },
  {
   "cell_type": "code",
   "execution_count": 33,
   "metadata": {},
   "outputs": [
    {
     "name": "stdout",
     "output_type": "stream",
     "text": [
      "15680\n"
     ]
    }
   ],
   "source": [
    "print(number_tracks(df, 'Friday', 'Moscow'))"
   ]
  },
  {
   "cell_type": "code",
   "execution_count": 34,
   "metadata": {},
   "outputs": [
    {
     "name": "stdout",
     "output_type": "stream",
     "text": [
      "5802\n"
     ]
    }
   ],
   "source": [
    "print(number_tracks(df, 'Friday', 'Saint-Petersburg'))"
   ]
  },
  {
   "cell_type": "markdown",
   "metadata": {},
   "source": [
    "Сведём полученную информацию в одну таблицу, где ['city', 'monday', 'wednesday', 'friday'] названия столбцов."
   ]
  },
  {
   "cell_type": "code",
   "execution_count": 41,
   "metadata": {},
   "outputs": [
    {
     "name": "stdout",
     "output_type": "stream",
     "text": [
      "               city  Monday  Wednesday  Friday\n",
      "0            Moscow   15347      10865   15680\n",
      "1  Saint-Petersburg    5519       6913    5802\n"
     ]
    }
   ],
   "source": [
    "result_df = pd.DataFrame(columns=['city', 'Monday', 'Wednesday', 'Friday'])\n",
    "\n",
    "data = []\n",
    "\n",
    "data.append({'city': 'Moscow', 'Monday': number_tracks(df, 'Monday', 'Moscow'), \n",
    "             'Wednesday': number_tracks(df, 'Wednesday', 'Moscow'), \n",
    "             'Friday': number_tracks(df, 'Friday', 'Moscow')})\n",
    "\n",
    "data.append({'city': 'Saint-Petersburg', \n",
    "             'Monday': number_tracks(df, 'Monday', 'Saint-Petersburg'), \n",
    "             'Wednesday': number_tracks(df, 'Wednesday', 'Saint-Petersburg'), \n",
    "             'Friday': number_tracks(df, 'Friday', 'Saint-Petersburg')})\n",
    "\n",
    "result_df = pd.DataFrame(data)\n",
    "\n",
    "print(result_df)"
   ]
  },
  {
   "cell_type": "markdown",
   "metadata": {},
   "source": [
    "## Вывод\n",
    "\n",
    "*Запишите здесь ваши выводы.Опишите закономерности, которые вы наблюдаете по дням недели и городам*"
   ]
  },
  {
   "cell_type": "markdown",
   "metadata": {},
   "source": [
    "# Утро понедельника и вечер пятницы — разная музыка или одна и та же?\n",
    "\n",
    "Ищем ответ на вопрос, какие жанры преобладают в разных городах в понедельник утром и в пятницу вечером. Есть предположение, что в понедельник утром пользователи слушают больше бодрящей музыки (например, жанра поп), а вечером пятницы — больше танцевальных (например, электронику).\n",
    "Получим таблицы данных по Москве moscow_general и по Санкт-Петербургу spb_general.\n"
   ]
  },
  {
   "cell_type": "code",
   "execution_count": 42,
   "metadata": {},
   "outputs": [
    {
     "data": {
      "text/html": [
       "<div>\n",
       "<style scoped>\n",
       "    .dataframe tbody tr th:only-of-type {\n",
       "        vertical-align: middle;\n",
       "    }\n",
       "\n",
       "    .dataframe tbody tr th {\n",
       "        vertical-align: top;\n",
       "    }\n",
       "\n",
       "    .dataframe thead th {\n",
       "        text-align: right;\n",
       "    }\n",
       "</style>\n",
       "<table border=\"1\" class=\"dataframe\">\n",
       "  <thead>\n",
       "    <tr style=\"text-align: right;\">\n",
       "      <th></th>\n",
       "      <th>user_id</th>\n",
       "      <th>track_name</th>\n",
       "      <th>artist_name</th>\n",
       "      <th>genre_name</th>\n",
       "      <th>city</th>\n",
       "      <th>total_play_seconds</th>\n",
       "      <th>day</th>\n",
       "      <th>Track</th>\n",
       "      <th>artist</th>\n",
       "    </tr>\n",
       "  </thead>\n",
       "  <tbody>\n",
       "    <tr>\n",
       "      <th>0</th>\n",
       "      <td>FFB692EC</td>\n",
       "      <td>Kamigata To Boots</td>\n",
       "      <td>The Mass Missile</td>\n",
       "      <td>rock</td>\n",
       "      <td>Saint-Petersburg</td>\n",
       "      <td>20:28:33</td>\n",
       "      <td>Wednesday</td>\n",
       "      <td>Kamigata To Boots</td>\n",
       "      <td>The Mass Missile</td>\n",
       "    </tr>\n",
       "    <tr>\n",
       "      <th>1</th>\n",
       "      <td>55204538</td>\n",
       "      <td>Delayed Because of Accident</td>\n",
       "      <td>Andreas Rönnberg</td>\n",
       "      <td>rock</td>\n",
       "      <td>Moscow</td>\n",
       "      <td>14:07:09</td>\n",
       "      <td>Friday</td>\n",
       "      <td>Delayed Because of Accident</td>\n",
       "      <td>Andreas Rönnberg</td>\n",
       "    </tr>\n",
       "    <tr>\n",
       "      <th>2</th>\n",
       "      <td>20EC38</td>\n",
       "      <td>Funiculì funiculà</td>\n",
       "      <td>Mario Lanza</td>\n",
       "      <td>pop</td>\n",
       "      <td>Saint-Petersburg</td>\n",
       "      <td>20:58:07</td>\n",
       "      <td>Wednesday</td>\n",
       "      <td>Funiculì funiculà</td>\n",
       "      <td>Mario Lanza</td>\n",
       "    </tr>\n",
       "    <tr>\n",
       "      <th>3</th>\n",
       "      <td>A3DD03C9</td>\n",
       "      <td>Dragons in the Sunset</td>\n",
       "      <td>Fire + Ice</td>\n",
       "      <td>folk</td>\n",
       "      <td>Saint-Petersburg</td>\n",
       "      <td>08:37:09</td>\n",
       "      <td>Monday</td>\n",
       "      <td>Dragons in the Sunset</td>\n",
       "      <td>Fire + Ice</td>\n",
       "    </tr>\n",
       "    <tr>\n",
       "      <th>4</th>\n",
       "      <td>E2DC1FAE</td>\n",
       "      <td>Soul People</td>\n",
       "      <td>Space Echo</td>\n",
       "      <td>dance</td>\n",
       "      <td>Moscow</td>\n",
       "      <td>08:34:34</td>\n",
       "      <td>Monday</td>\n",
       "      <td>Soul People</td>\n",
       "      <td>Space Echo</td>\n",
       "    </tr>\n",
       "  </tbody>\n",
       "</table>\n",
       "</div>"
      ],
      "text/plain": [
       "    user_id                   track_name       artist_name genre_name  \\\n",
       "0  FFB692EC            Kamigata To Boots  The Mass Missile       rock   \n",
       "1  55204538  Delayed Because of Accident  Andreas Rönnberg       rock   \n",
       "2    20EC38            Funiculì funiculà       Mario Lanza        pop   \n",
       "3  A3DD03C9        Dragons in the Sunset        Fire + Ice       folk   \n",
       "4  E2DC1FAE                  Soul People        Space Echo      dance   \n",
       "\n",
       "               city total_play_seconds        day  \\\n",
       "0  Saint-Petersburg           20:28:33  Wednesday   \n",
       "1            Moscow           14:07:09     Friday   \n",
       "2  Saint-Petersburg           20:58:07  Wednesday   \n",
       "3  Saint-Petersburg           08:37:09     Monday   \n",
       "4            Moscow           08:34:34     Monday   \n",
       "\n",
       "                         Track            artist  \n",
       "0            Kamigata To Boots  The Mass Missile  \n",
       "1  Delayed Because of Accident  Andreas Rönnberg  \n",
       "2            Funiculì funiculà       Mario Lanza  \n",
       "3        Dragons in the Sunset        Fire + Ice  \n",
       "4                  Soul People        Space Echo  "
      ]
     },
     "execution_count": 42,
     "metadata": {},
     "output_type": "execute_result"
    }
   ],
   "source": [
    "df.head(5)"
   ]
  },
  {
   "cell_type": "markdown",
   "metadata": {},
   "source": [
    "Создаём функцию genre_weekday(), которая возвращает список жанров по запрошенному дню недели и времени суток с такого-то часа по такой-то."
   ]
  },
  {
   "cell_type": "code",
   "execution_count": 48,
   "metadata": {},
   "outputs": [
    {
     "name": "stdout",
     "output_type": "stream",
     "text": [
      "day        total_play_seconds  genre_name \n",
      "Friday     08:00:03            dubstep        1\n",
      "                               rusrock        1\n",
      "           08:00:04            classical      1\n",
      "           08:00:05            rock           1\n",
      "           08:00:08            rock           1\n",
      "                                             ..\n",
      "Wednesday  22:00:41            rock           1\n",
      "           22:00:43            electronic     1\n",
      "           22:00:54            hip            1\n",
      "           22:00:56            pop            1\n",
      "           22:00:59            alternative    1\n",
      "Name: count, Length: 41073, dtype: int64\n",
      "day        total_play_seconds  genre_name \n",
      "Friday     08:00:00            dance          1\n",
      "           08:00:04            spiritual      1\n",
      "           08:00:07            alternative    1\n",
      "           08:00:17            electronic     1\n",
      "           08:00:31            world          1\n",
      "                                             ..\n",
      "Wednesday  22:00:46            electronic     1\n",
      "           22:00:49            jazz           1\n",
      "           22:00:54            pop            1\n",
      "           22:00:55            dance          1\n",
      "           22:00:59            vocal          1\n",
      "Name: count, Length: 18063, dtype: int64\n"
     ]
    }
   ],
   "source": [
    "moscow_general = df[df['city'] == 'Moscow']\n",
    "spb_general = df[df['city'] == 'Saint-Petersburg']\n",
    "\n",
    "moscow_grouped = moscow_general.groupby(['day', 'total_play_seconds'])['genre_name'].value_counts()\n",
    "spb_grouped = spb_general.groupby(['day', 'total_play_seconds'])['genre_name'].value_counts()\n",
    "\n",
    "print(moscow_grouped)\n",
    "print(spb_grouped)\n",
    "\n",
    "def genre_weekday(df, day, time1, time2):\n",
    "    genre_list = df[(df['day'] == day) & (df['total_play_seconds'] > time1) & (df['total_play_seconds'] < time2)]\n",
    "    genre_list_sorted = genre_list['genre_name'].value_counts().head(10)\n",
    "    return genre_list_sorted\n"
   ]
  },
  {
   "cell_type": "markdown",
   "metadata": {},
   "source": [
    "Cравниваем полученные результаты по таблице для Москвы и Санкт-Петербурга в понедельник утром (с 7 до 11) и в пятницу вечером (с 17 до 23)."
   ]
  },
  {
   "cell_type": "code",
   "execution_count": 49,
   "metadata": {},
   "outputs": [
    {
     "name": "stdout",
     "output_type": "stream",
     "text": [
      "genre_name\n",
      "pop            781\n",
      "dance          549\n",
      "electronic     480\n",
      "rock           474\n",
      "hip            281\n",
      "ruspop         186\n",
      "world          181\n",
      "rusrap         175\n",
      "alternative    164\n",
      "classical      157\n",
      "Name: count, dtype: int64\n"
     ]
    }
   ],
   "source": [
    "moscow_mon_morning = genre_weekday(moscow_general, 'Monday', '07:00', '11:00')\n",
    "print(moscow_mon_morning)"
   ]
  },
  {
   "cell_type": "code",
   "execution_count": 50,
   "metadata": {},
   "outputs": [
    {
     "name": "stdout",
     "output_type": "stream",
     "text": [
      "genre_name\n",
      "pop            218\n",
      "dance          182\n",
      "rock           162\n",
      "electronic     147\n",
      "hip             79\n",
      "ruspop          64\n",
      "alternative     58\n",
      "rusrap          55\n",
      "jazz            44\n",
      "classical       40\n",
      "Name: count, dtype: int64\n"
     ]
    }
   ],
   "source": [
    "spb_mon_morning = genre_weekday(spb_general, 'Monday', '07:00', '11:00')\n",
    "print(spb_mon_morning)"
   ]
  },
  {
   "cell_type": "code",
   "execution_count": 51,
   "metadata": {},
   "outputs": [
    {
     "name": "stdout",
     "output_type": "stream",
     "text": [
      "genre_name\n",
      "pop            713\n",
      "rock           517\n",
      "dance          495\n",
      "electronic     482\n",
      "hip            267\n",
      "world          208\n",
      "ruspop         170\n",
      "classical      163\n",
      "alternative    163\n",
      "rusrap         142\n",
      "Name: count, dtype: int64\n"
     ]
    }
   ],
   "source": [
    "moscow_fri_evening = genre_weekday(moscow_general, 'Friday', '17:00', '23:00')\n",
    "print(moscow_fri_evening)"
   ]
  },
  {
   "cell_type": "code",
   "execution_count": 53,
   "metadata": {},
   "outputs": [
    {
     "name": "stdout",
     "output_type": "stream",
     "text": [
      "genre_name\n",
      "pop            256\n",
      "electronic     216\n",
      "rock           216\n",
      "dance          210\n",
      "hip             94\n",
      "alternative     63\n",
      "jazz            61\n",
      "classical       60\n",
      "rusrap          59\n",
      "world           54\n",
      "Name: count, dtype: int64\n"
     ]
    }
   ],
   "source": [
    "spb_fri_evening = genre_weekday(spb_general, 'Friday', '17:00', '23:00')\n",
    "print(spb_fri_evening)"
   ]
  },
  {
   "cell_type": "markdown",
   "metadata": {},
   "source": [
    "Популярные жанры в понедельник утром в Питере и Москве оказались похожи: везде, как и предполагалось, популярен *(вставьте сюда название жанра)*. Несмотря на это, концовка топ-10 для двух городов различается: в Питере в топ-10 входит джаз и русский рэп, а в Москве жанр world.\n",
    "\n",
    "*(Опишите здесь, меняется ли ситуация в музыкальными предпочтениями в конце недели, заметна ли разница в концовке ТОП-10)*\n",
    "\n",
    "## Вывод\n",
    "Жанр *(вставьте сюда название жанра)* безусловный лидер, а топ-5 в целом не различается в обеих столицах. При этом видно, что концовка списка более «живая»: для каждого города выделяются более характерные жанры, которые действительно меняют свои позиции в зависимости от дня недели и времени.\n"
   ]
  },
  {
   "cell_type": "markdown",
   "metadata": {},
   "source": [
    "# Москва и Питер — две разные столицы, два разных направления в музыке. Правда?\n",
    "\n",
    "Гипотеза: Питер богат своей рэп-культурой, поэтому это направление там слушают чаще, а Москва — город контрастов, но основная масса пользователей слушает попсу.\n",
    "\n",
    "Сгруппируем таблицу moscow_general по жанру, сосчитаем численность композиций каждого жанра методом count(), отсортируем в порядке убывания и сохраним результат в таблице moscow_genres.\n",
    "\n",
    "Просмотрим первые 10 строк этой новой таблицы.\n"
   ]
  },
  {
   "cell_type": "code",
   "execution_count": 55,
   "metadata": {},
   "outputs": [
    {
     "name": "stdout",
     "output_type": "stream",
     "text": [
      "genre_name\n",
      "pop            8323\n",
      "dance          6367\n",
      "rock           5844\n",
      "electronic     5522\n",
      "hip            2975\n",
      "classical      2262\n",
      "alternative    2028\n",
      "world          1947\n",
      "ruspop         1910\n",
      "rusrap         1725\n",
      "dtype: int64\n"
     ]
    }
   ],
   "source": [
    "moscow_genres = df.groupby('genre_name').size()\n",
    "\n",
    "moscow_genres = moscow_genres.sort_values(ascending=False)\n",
    "\n",
    "print(moscow_genres.head(10))\n"
   ]
  },
  {
   "cell_type": "code",
   "execution_count": null,
   "metadata": {},
   "outputs": [
    {
     "name": "stdout",
     "output_type": "stream",
     "text": [
      "genre_name\n",
      "pop            8323\n",
      "dance          6367\n",
      "rock           5844\n",
      "electronic     5522\n",
      "hip            2975\n",
      "classical      2262\n",
      "alternative    2028\n",
      "world          1947\n",
      "ruspop         1910\n",
      "rusrap         1725\n",
      "dtype: int64\n"
     ]
    }
   ],
   "source": []
  },
  {
   "cell_type": "markdown",
   "metadata": {},
   "source": [
    "Сгруппируем таблицу spb_general по жанру, сосчитаем численность композиций каждого жанра методом count(), отсортируем в порядке убывания и сохраним результат в таблице spb_genres.\n",
    "\n",
    "Просматриваем первые 10 строк этой таблицы. Теперь можно сравнивать два города.\n"
   ]
  },
  {
   "cell_type": "code",
   "execution_count": 58,
   "metadata": {},
   "outputs": [
    {
     "name": "stdout",
     "output_type": "stream",
     "text": [
      "genre_name\n",
      "pop            8323\n",
      "dance          6367\n",
      "rock           5844\n",
      "electronic     5522\n",
      "hip            2975\n",
      "classical      2262\n",
      "alternative    2028\n",
      "world          1947\n",
      "ruspop         1910\n",
      "rusrap         1725\n",
      "dtype: int64\n"
     ]
    }
   ],
   "source": [
    "spb_genres = df.groupby('genre_name').size()\n",
    "\n",
    "spb_genres = spb_genres.sort_values(ascending=False)\n",
    "\n",
    "print(spb_genres.head(10))"
   ]
  },
  {
   "cell_type": "code",
   "execution_count": 47,
   "metadata": {},
   "outputs": [],
   "source": [
    "# <просмотр первых 10 строк spb_genres>"
   ]
  },
  {
   "cell_type": "markdown",
   "metadata": {},
   "source": [
    "## Вывод\n",
    "В Москве, кроме абсолютно популярного жанра поп, есть направление русской популярной музыки. Значит, что интерес к этому жанру шире. А рэп, вопреки предположению, занимает в обоих городах близкие позиции.\n"
   ]
  },
  {
   "cell_type": "markdown",
   "metadata": {},
   "source": [
    "# Результаты исследования\n",
    "\n",
    "Рабочие гипотезы:\n",
    "\n",
    "•\tмузыку в двух городах — Москве и Санкт-Петербурге — слушают в разном режиме;\n",
    "\n",
    "•\tсписки десяти самых популярных жанров утром в понедельник и вечером в пятницу имеют характерные отличия;\n",
    "\n",
    "•\tнаселение двух городов предпочитает разные музыкальные жанры.\n",
    "\n",
    "**Общие результаты**\n",
    "\n",
    "Москва и Петербург сходятся во вкусах: везде преобладает популярная музыка. При этом зависимости предпочтений от дня недели в каждом отдельном городе нет — люди постоянно слушают то, что им нравится. Но между городами в разрезе дней неделей наблюдается зеркальность относительно среды: Москва больше слушает в понедельник и пятницу, а Петербург наоборот - больше в среду, но меньше в понедельник и пятницу.\n",
    "В результате первая гипотеза *подтверждена / не подтверждена*, вторая гипотеза *подтверждена / не подтверждена* и третья не подтверждена >.*подтверждена / не подтверждена*\n"
   ]
  },
  {
   "cell_type": "code",
   "execution_count": null,
   "metadata": {},
   "outputs": [],
   "source": []
  },
  {
   "cell_type": "code",
   "execution_count": null,
   "metadata": {},
   "outputs": [],
   "source": []
  }
 ],
 "metadata": {
  "kernelspec": {
   "display_name": "Python 3",
   "language": "python",
   "name": "python3"
  },
  "language_info": {
   "codemirror_mode": {
    "name": "ipython",
    "version": 3
   },
   "file_extension": ".py",
   "mimetype": "text/x-python",
   "name": "python",
   "nbconvert_exporter": "python",
   "pygments_lexer": "ipython3",
   "version": "3.12.2"
  }
 },
 "nbformat": 4,
 "nbformat_minor": 4
}
